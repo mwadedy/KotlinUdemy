{
  "metadata": {
    "kernelspec": {
      "language": "python",
      "display_name": "Python 3",
      "name": "python3"
    },
    "language_info": {
      "name": "python",
      "version": "3.10.12",
      "mimetype": "text/x-python",
      "codemirror_mode": {
        "name": "ipython",
        "version": 3
      },
      "pygments_lexer": "ipython3",
      "nbconvert_exporter": "python",
      "file_extension": ".py"
    },
    "kaggle": {
      "accelerator": "none",
      "dataSources": [
        {
          "sourceId": 10380882,
          "sourceType": "datasetVersion",
          "datasetId": 6430641
        }
      ],
      "dockerImageVersionId": 30822,
      "isInternetEnabled": true,
      "language": "python",
      "sourceType": "notebook",
      "isGpuEnabled": false
    },
    "colab": {
      "name": "Data_analysis",
      "provenance": [],
      "include_colab_link": true
    }
  },
  "nbformat_minor": 0,
  "nbformat": 4,
  "cells": [
    {
      "cell_type": "markdown",
      "metadata": {
        "id": "view-in-github",
        "colab_type": "text"
      },
      "source": [
        "<a href=\"https://colab.research.google.com/github/mwadedy/KotlinUdemy/blob/master/categoriesing_comments.ipynb\" target=\"_parent\"><img src=\"https://colab.research.google.com/assets/colab-badge.svg\" alt=\"Open In Colab\"/></a>"
      ]
    },
    {
      "cell_type": "code",
      "source": [
        "from google.colab import drive\n",
        "drive.mount('/content/drive')"
      ],
      "metadata": {
        "colab": {
          "base_uri": "https://localhost:8080/"
        },
        "id": "0t-zfAsifyAS",
        "outputId": "6c4df779-2006-4351-a6a7-6bc2f881faac"
      },
      "execution_count": 7,
      "outputs": [
        {
          "output_type": "stream",
          "name": "stdout",
          "text": [
            "Mounted at /content/drive\n"
          ]
        }
      ]
    },
    {
      "cell_type": "code",
      "source": [
        "# prompt: open this file: /content/drive/MyDrive/Database/comments.xlsx\n",
        "\n",
        "import pandas as pd\n",
        "\n",
        "df = pd.read_excel('/content/drive/MyDrive/Database/comments.xlsx')\n",
        "df\n"
      ],
      "metadata": {
        "colab": {
          "base_uri": "https://localhost:8080/",
          "height": 424
        },
        "id": "_Roii7DvfuIN",
        "outputId": "993fb798-0141-403b-e3fe-982fd6a24fc6"
      },
      "execution_count": 8,
      "outputs": [
        {
          "output_type": "execute_result",
          "data": {
            "text/plain": [
              "                                          Hit Sentence  \\\n",
              "0                  تبًا للاكسجين انا اتنفس مترو الرياض   \n",
              "1    : هخخخخ يا هو بيفك ازمة انتهى زمن تقعد ساعة كا...   \n",
              "2    @altammami62 @dr_aloqla @SaudiTransport @secur...   \n",
              "3    @YeloDrive قلتوا خلال ٢١ يوم راح ينودع مبلغ ال...   \n",
              "4    @Dr_AlghamdiA بتصدع الراس عانيت منها في قطار ا...   \n",
              "..                                                 ...   \n",
              "186  @wain2030 @TurkiShalhoub لاتقول بلدنا ليست بلد...   \n",
              "187                @938 @SaudiTransport @938 @RGAsaudi   \n",
              "188  @TGA_CARE @starlinks_me شركة هاذي كذابة ارجو ت...   \n",
              "189  @RGAsaudi نتمنى فضلا لا امرا من الرئيس التنفيذ...   \n",
              "190  عملائي الكرام خدماتي :- 1️⃣توصيل مشاوير داخل ا...   \n",
              "\n",
              "                    Search Word             Category  \n",
              "0                   وزارة النقل          وزارة النقل  \n",
              "1    Ministry of Transportation          وزارة النقل  \n",
              "2                    هيئة النقل  الهيئة العامة للنقل  \n",
              "3           Transport Authority  الهيئة العامة للنقل  \n",
              "4                الطيران المدني       الطيران المدني  \n",
              "..                          ...                  ...  \n",
              "186                         NaN                  NaN  \n",
              "187                         NaN                  NaN  \n",
              "188                         NaN                  NaN  \n",
              "189                         NaN                  NaN  \n",
              "190                         NaN                  NaN  \n",
              "\n",
              "[191 rows x 3 columns]"
            ],
            "text/html": [
              "\n",
              "  <div id=\"df-166592d0-1e78-4c9f-ae18-6f94a4c6d0b1\" class=\"colab-df-container\">\n",
              "    <div>\n",
              "<style scoped>\n",
              "    .dataframe tbody tr th:only-of-type {\n",
              "        vertical-align: middle;\n",
              "    }\n",
              "\n",
              "    .dataframe tbody tr th {\n",
              "        vertical-align: top;\n",
              "    }\n",
              "\n",
              "    .dataframe thead th {\n",
              "        text-align: right;\n",
              "    }\n",
              "</style>\n",
              "<table border=\"1\" class=\"dataframe\">\n",
              "  <thead>\n",
              "    <tr style=\"text-align: right;\">\n",
              "      <th></th>\n",
              "      <th>Hit Sentence</th>\n",
              "      <th>Search Word</th>\n",
              "      <th>Category</th>\n",
              "    </tr>\n",
              "  </thead>\n",
              "  <tbody>\n",
              "    <tr>\n",
              "      <th>0</th>\n",
              "      <td>تبًا للاكسجين انا اتنفس مترو الرياض</td>\n",
              "      <td>وزارة النقل</td>\n",
              "      <td>وزارة النقل</td>\n",
              "    </tr>\n",
              "    <tr>\n",
              "      <th>1</th>\n",
              "      <td>: هخخخخ يا هو بيفك ازمة انتهى زمن تقعد ساعة كا...</td>\n",
              "      <td>Ministry of Transportation</td>\n",
              "      <td>وزارة النقل</td>\n",
              "    </tr>\n",
              "    <tr>\n",
              "      <th>2</th>\n",
              "      <td>@altammami62 @dr_aloqla @SaudiTransport @secur...</td>\n",
              "      <td>هيئة النقل</td>\n",
              "      <td>الهيئة العامة للنقل</td>\n",
              "    </tr>\n",
              "    <tr>\n",
              "      <th>3</th>\n",
              "      <td>@YeloDrive قلتوا خلال ٢١ يوم راح ينودع مبلغ ال...</td>\n",
              "      <td>Transport Authority</td>\n",
              "      <td>الهيئة العامة للنقل</td>\n",
              "    </tr>\n",
              "    <tr>\n",
              "      <th>4</th>\n",
              "      <td>@Dr_AlghamdiA بتصدع الراس عانيت منها في قطار ا...</td>\n",
              "      <td>الطيران المدني</td>\n",
              "      <td>الطيران المدني</td>\n",
              "    </tr>\n",
              "    <tr>\n",
              "      <th>...</th>\n",
              "      <td>...</td>\n",
              "      <td>...</td>\n",
              "      <td>...</td>\n",
              "    </tr>\n",
              "    <tr>\n",
              "      <th>186</th>\n",
              "      <td>@wain2030 @TurkiShalhoub لاتقول بلدنا ليست بلد...</td>\n",
              "      <td>NaN</td>\n",
              "      <td>NaN</td>\n",
              "    </tr>\n",
              "    <tr>\n",
              "      <th>187</th>\n",
              "      <td>@938 @SaudiTransport @938 @RGAsaudi</td>\n",
              "      <td>NaN</td>\n",
              "      <td>NaN</td>\n",
              "    </tr>\n",
              "    <tr>\n",
              "      <th>188</th>\n",
              "      <td>@TGA_CARE @starlinks_me شركة هاذي كذابة ارجو ت...</td>\n",
              "      <td>NaN</td>\n",
              "      <td>NaN</td>\n",
              "    </tr>\n",
              "    <tr>\n",
              "      <th>189</th>\n",
              "      <td>@RGAsaudi نتمنى فضلا لا امرا من الرئيس التنفيذ...</td>\n",
              "      <td>NaN</td>\n",
              "      <td>NaN</td>\n",
              "    </tr>\n",
              "    <tr>\n",
              "      <th>190</th>\n",
              "      <td>عملائي الكرام خدماتي :- 1️⃣توصيل مشاوير داخل ا...</td>\n",
              "      <td>NaN</td>\n",
              "      <td>NaN</td>\n",
              "    </tr>\n",
              "  </tbody>\n",
              "</table>\n",
              "<p>191 rows × 3 columns</p>\n",
              "</div>\n",
              "    <div class=\"colab-df-buttons\">\n",
              "\n",
              "  <div class=\"colab-df-container\">\n",
              "    <button class=\"colab-df-convert\" onclick=\"convertToInteractive('df-166592d0-1e78-4c9f-ae18-6f94a4c6d0b1')\"\n",
              "            title=\"Convert this dataframe to an interactive table.\"\n",
              "            style=\"display:none;\">\n",
              "\n",
              "  <svg xmlns=\"http://www.w3.org/2000/svg\" height=\"24px\" viewBox=\"0 -960 960 960\">\n",
              "    <path d=\"M120-120v-720h720v720H120Zm60-500h600v-160H180v160Zm220 220h160v-160H400v160Zm0 220h160v-160H400v160ZM180-400h160v-160H180v160Zm440 0h160v-160H620v160ZM180-180h160v-160H180v160Zm440 0h160v-160H620v160Z\"/>\n",
              "  </svg>\n",
              "    </button>\n",
              "\n",
              "  <style>\n",
              "    .colab-df-container {\n",
              "      display:flex;\n",
              "      gap: 12px;\n",
              "    }\n",
              "\n",
              "    .colab-df-convert {\n",
              "      background-color: #E8F0FE;\n",
              "      border: none;\n",
              "      border-radius: 50%;\n",
              "      cursor: pointer;\n",
              "      display: none;\n",
              "      fill: #1967D2;\n",
              "      height: 32px;\n",
              "      padding: 0 0 0 0;\n",
              "      width: 32px;\n",
              "    }\n",
              "\n",
              "    .colab-df-convert:hover {\n",
              "      background-color: #E2EBFA;\n",
              "      box-shadow: 0px 1px 2px rgba(60, 64, 67, 0.3), 0px 1px 3px 1px rgba(60, 64, 67, 0.15);\n",
              "      fill: #174EA6;\n",
              "    }\n",
              "\n",
              "    .colab-df-buttons div {\n",
              "      margin-bottom: 4px;\n",
              "    }\n",
              "\n",
              "    [theme=dark] .colab-df-convert {\n",
              "      background-color: #3B4455;\n",
              "      fill: #D2E3FC;\n",
              "    }\n",
              "\n",
              "    [theme=dark] .colab-df-convert:hover {\n",
              "      background-color: #434B5C;\n",
              "      box-shadow: 0px 1px 3px 1px rgba(0, 0, 0, 0.15);\n",
              "      filter: drop-shadow(0px 1px 2px rgba(0, 0, 0, 0.3));\n",
              "      fill: #FFFFFF;\n",
              "    }\n",
              "  </style>\n",
              "\n",
              "    <script>\n",
              "      const buttonEl =\n",
              "        document.querySelector('#df-166592d0-1e78-4c9f-ae18-6f94a4c6d0b1 button.colab-df-convert');\n",
              "      buttonEl.style.display =\n",
              "        google.colab.kernel.accessAllowed ? 'block' : 'none';\n",
              "\n",
              "      async function convertToInteractive(key) {\n",
              "        const element = document.querySelector('#df-166592d0-1e78-4c9f-ae18-6f94a4c6d0b1');\n",
              "        const dataTable =\n",
              "          await google.colab.kernel.invokeFunction('convertToInteractive',\n",
              "                                                    [key], {});\n",
              "        if (!dataTable) return;\n",
              "\n",
              "        const docLinkHtml = 'Like what you see? Visit the ' +\n",
              "          '<a target=\"_blank\" href=https://colab.research.google.com/notebooks/data_table.ipynb>data table notebook</a>'\n",
              "          + ' to learn more about interactive tables.';\n",
              "        element.innerHTML = '';\n",
              "        dataTable['output_type'] = 'display_data';\n",
              "        await google.colab.output.renderOutput(dataTable, element);\n",
              "        const docLink = document.createElement('div');\n",
              "        docLink.innerHTML = docLinkHtml;\n",
              "        element.appendChild(docLink);\n",
              "      }\n",
              "    </script>\n",
              "  </div>\n",
              "\n",
              "\n",
              "<div id=\"df-0af3af06-5d38-4057-a6f2-16ac33fa4177\">\n",
              "  <button class=\"colab-df-quickchart\" onclick=\"quickchart('df-0af3af06-5d38-4057-a6f2-16ac33fa4177')\"\n",
              "            title=\"Suggest charts\"\n",
              "            style=\"display:none;\">\n",
              "\n",
              "<svg xmlns=\"http://www.w3.org/2000/svg\" height=\"24px\"viewBox=\"0 0 24 24\"\n",
              "     width=\"24px\">\n",
              "    <g>\n",
              "        <path d=\"M19 3H5c-1.1 0-2 .9-2 2v14c0 1.1.9 2 2 2h14c1.1 0 2-.9 2-2V5c0-1.1-.9-2-2-2zM9 17H7v-7h2v7zm4 0h-2V7h2v10zm4 0h-2v-4h2v4z\"/>\n",
              "    </g>\n",
              "</svg>\n",
              "  </button>\n",
              "\n",
              "<style>\n",
              "  .colab-df-quickchart {\n",
              "      --bg-color: #E8F0FE;\n",
              "      --fill-color: #1967D2;\n",
              "      --hover-bg-color: #E2EBFA;\n",
              "      --hover-fill-color: #174EA6;\n",
              "      --disabled-fill-color: #AAA;\n",
              "      --disabled-bg-color: #DDD;\n",
              "  }\n",
              "\n",
              "  [theme=dark] .colab-df-quickchart {\n",
              "      --bg-color: #3B4455;\n",
              "      --fill-color: #D2E3FC;\n",
              "      --hover-bg-color: #434B5C;\n",
              "      --hover-fill-color: #FFFFFF;\n",
              "      --disabled-bg-color: #3B4455;\n",
              "      --disabled-fill-color: #666;\n",
              "  }\n",
              "\n",
              "  .colab-df-quickchart {\n",
              "    background-color: var(--bg-color);\n",
              "    border: none;\n",
              "    border-radius: 50%;\n",
              "    cursor: pointer;\n",
              "    display: none;\n",
              "    fill: var(--fill-color);\n",
              "    height: 32px;\n",
              "    padding: 0;\n",
              "    width: 32px;\n",
              "  }\n",
              "\n",
              "  .colab-df-quickchart:hover {\n",
              "    background-color: var(--hover-bg-color);\n",
              "    box-shadow: 0 1px 2px rgba(60, 64, 67, 0.3), 0 1px 3px 1px rgba(60, 64, 67, 0.15);\n",
              "    fill: var(--button-hover-fill-color);\n",
              "  }\n",
              "\n",
              "  .colab-df-quickchart-complete:disabled,\n",
              "  .colab-df-quickchart-complete:disabled:hover {\n",
              "    background-color: var(--disabled-bg-color);\n",
              "    fill: var(--disabled-fill-color);\n",
              "    box-shadow: none;\n",
              "  }\n",
              "\n",
              "  .colab-df-spinner {\n",
              "    border: 2px solid var(--fill-color);\n",
              "    border-color: transparent;\n",
              "    border-bottom-color: var(--fill-color);\n",
              "    animation:\n",
              "      spin 1s steps(1) infinite;\n",
              "  }\n",
              "\n",
              "  @keyframes spin {\n",
              "    0% {\n",
              "      border-color: transparent;\n",
              "      border-bottom-color: var(--fill-color);\n",
              "      border-left-color: var(--fill-color);\n",
              "    }\n",
              "    20% {\n",
              "      border-color: transparent;\n",
              "      border-left-color: var(--fill-color);\n",
              "      border-top-color: var(--fill-color);\n",
              "    }\n",
              "    30% {\n",
              "      border-color: transparent;\n",
              "      border-left-color: var(--fill-color);\n",
              "      border-top-color: var(--fill-color);\n",
              "      border-right-color: var(--fill-color);\n",
              "    }\n",
              "    40% {\n",
              "      border-color: transparent;\n",
              "      border-right-color: var(--fill-color);\n",
              "      border-top-color: var(--fill-color);\n",
              "    }\n",
              "    60% {\n",
              "      border-color: transparent;\n",
              "      border-right-color: var(--fill-color);\n",
              "    }\n",
              "    80% {\n",
              "      border-color: transparent;\n",
              "      border-right-color: var(--fill-color);\n",
              "      border-bottom-color: var(--fill-color);\n",
              "    }\n",
              "    90% {\n",
              "      border-color: transparent;\n",
              "      border-bottom-color: var(--fill-color);\n",
              "    }\n",
              "  }\n",
              "</style>\n",
              "\n",
              "  <script>\n",
              "    async function quickchart(key) {\n",
              "      const quickchartButtonEl =\n",
              "        document.querySelector('#' + key + ' button');\n",
              "      quickchartButtonEl.disabled = true;  // To prevent multiple clicks.\n",
              "      quickchartButtonEl.classList.add('colab-df-spinner');\n",
              "      try {\n",
              "        const charts = await google.colab.kernel.invokeFunction(\n",
              "            'suggestCharts', [key], {});\n",
              "      } catch (error) {\n",
              "        console.error('Error during call to suggestCharts:', error);\n",
              "      }\n",
              "      quickchartButtonEl.classList.remove('colab-df-spinner');\n",
              "      quickchartButtonEl.classList.add('colab-df-quickchart-complete');\n",
              "    }\n",
              "    (() => {\n",
              "      let quickchartButtonEl =\n",
              "        document.querySelector('#df-0af3af06-5d38-4057-a6f2-16ac33fa4177 button');\n",
              "      quickchartButtonEl.style.display =\n",
              "        google.colab.kernel.accessAllowed ? 'block' : 'none';\n",
              "    })();\n",
              "  </script>\n",
              "</div>\n",
              "\n",
              "  <div id=\"id_de906423-7e37-4186-81fe-8e1b304805ce\">\n",
              "    <style>\n",
              "      .colab-df-generate {\n",
              "        background-color: #E8F0FE;\n",
              "        border: none;\n",
              "        border-radius: 50%;\n",
              "        cursor: pointer;\n",
              "        display: none;\n",
              "        fill: #1967D2;\n",
              "        height: 32px;\n",
              "        padding: 0 0 0 0;\n",
              "        width: 32px;\n",
              "      }\n",
              "\n",
              "      .colab-df-generate:hover {\n",
              "        background-color: #E2EBFA;\n",
              "        box-shadow: 0px 1px 2px rgba(60, 64, 67, 0.3), 0px 1px 3px 1px rgba(60, 64, 67, 0.15);\n",
              "        fill: #174EA6;\n",
              "      }\n",
              "\n",
              "      [theme=dark] .colab-df-generate {\n",
              "        background-color: #3B4455;\n",
              "        fill: #D2E3FC;\n",
              "      }\n",
              "\n",
              "      [theme=dark] .colab-df-generate:hover {\n",
              "        background-color: #434B5C;\n",
              "        box-shadow: 0px 1px 3px 1px rgba(0, 0, 0, 0.15);\n",
              "        filter: drop-shadow(0px 1px 2px rgba(0, 0, 0, 0.3));\n",
              "        fill: #FFFFFF;\n",
              "      }\n",
              "    </style>\n",
              "    <button class=\"colab-df-generate\" onclick=\"generateWithVariable('df')\"\n",
              "            title=\"Generate code using this dataframe.\"\n",
              "            style=\"display:none;\">\n",
              "\n",
              "  <svg xmlns=\"http://www.w3.org/2000/svg\" height=\"24px\"viewBox=\"0 0 24 24\"\n",
              "       width=\"24px\">\n",
              "    <path d=\"M7,19H8.4L18.45,9,17,7.55,7,17.6ZM5,21V16.75L18.45,3.32a2,2,0,0,1,2.83,0l1.4,1.43a1.91,1.91,0,0,1,.58,1.4,1.91,1.91,0,0,1-.58,1.4L9.25,21ZM18.45,9,17,7.55Zm-12,3A5.31,5.31,0,0,0,4.9,8.1,5.31,5.31,0,0,0,1,6.5,5.31,5.31,0,0,0,4.9,4.9,5.31,5.31,0,0,0,6.5,1,5.31,5.31,0,0,0,8.1,4.9,5.31,5.31,0,0,0,12,6.5,5.46,5.46,0,0,0,6.5,12Z\"/>\n",
              "  </svg>\n",
              "    </button>\n",
              "    <script>\n",
              "      (() => {\n",
              "      const buttonEl =\n",
              "        document.querySelector('#id_de906423-7e37-4186-81fe-8e1b304805ce button.colab-df-generate');\n",
              "      buttonEl.style.display =\n",
              "        google.colab.kernel.accessAllowed ? 'block' : 'none';\n",
              "\n",
              "      buttonEl.onclick = () => {\n",
              "        google.colab.notebook.generateWithVariable('df');\n",
              "      }\n",
              "      })();\n",
              "    </script>\n",
              "  </div>\n",
              "\n",
              "    </div>\n",
              "  </div>\n"
            ],
            "application/vnd.google.colaboratory.intrinsic+json": {
              "type": "dataframe",
              "variable_name": "df",
              "summary": "{\n  \"name\": \"df\",\n  \"rows\": 191,\n  \"fields\": [\n    {\n      \"column\": \"Hit Sentence\",\n      \"properties\": {\n        \"dtype\": \"string\",\n        \"num_unique_values\": 173,\n        \"samples\": [\n          \"\\u0641\\u064a \\u0645\\u0637\\u0627\\u0631 \\u0627\\u0644\\u0631\\u064a\\u0627\\u0636.. \\u0627\\u0635\\u0637\\u062f\\u0645\\u062a \\u0625\\u062d\\u062f\\u0649 \\u0637\\u0627\\u0626\\u0631\\u0627\\u062a #\\u0627\\u0644\\u062e\\u0637\\u0648\\u0637_\\u0627\\u0644\\u0633\\u0639\\u0648\\u062f\\u064a\\u0629 \\u0628\\u0623\\u062e\\u0631\\u0649 \\u0623\\u062b\\u0646\\u0627\\u0621 \\u0639\\u0645\\u0644\\u064a\\u0629 \\u062f\\u0641\\u0639 \\u0627\\u0644\\u0637\\u0627\\u0626\\u0631\\u0629 \\u0625\\u0644\\u0649 \\u0627\\u0644\\u0645\\u0648\\u0642\\u0641 \\u0627\\u0644\\u0645\\u062e\\u0635\\u0635 \\u0644\\u0647\\u0627 \\u0641\\u064a \\u0648\\u0633\\u0637 \\u0623\\u062d\\u062f \\u0627\\u0644\\u0645\\u0645\\u0631\\u0627\\u062a \\u0627\\u0644\\u0623\\u0631\\u0636\\u064a\\u0629 \\u0641\\u064a \\u0645\\u0637\\u0627\\u0631 \\u0627\\u0644\\u0645\\u0644\\u0643 \\u062e\\u0627\\u0644\\u062f \\u0627\\u0644\\u062f\\u0648\\u0644\\u064a \\u0628\\u0627\\u0644\\u0631\\u064a\\u0627\\u0636. \\u0637\\u0627\\u0626\\u0631\\u0629 \\u0627\\u0644\\u062e\\u0637\\u0648\\u0637 \\u0627\\u0644\\u0633\\u0639\\u0648\\u062f\\u064a\\u0629 \\u0648\\u0627\\u0644\\u062a\\u064a \\u062a\\u062d\\u0645\\u0644 \\u0627\\u0644\\u062a\\u0633\\u062c\\u064a\\u0644 HZ-AK36 \\u062a\\u0639\\u0631\\u0636\\u062a \\u0644\\u0623\\u0636\\u0631\\u0627\\u0631 \\u0641\\u064a \\u0645\\u0642\\u062f\\u0645\\u062a\\u0647\\u0627 \\u0648\\u0632\\u062c\\u0627\\u062c \\u0642\\u0645\\u0631\\u0629 \\u0627\\u0644\\u0642\\u064a\\u0627\\u062f\\u0629\\u060c \\u0628\\u064a\\u0646\\u0645\\u0627 \\u062a\\u0639\\u0631\\u0636\\u062a \\u0627\\u0644\\u0637\\u0627\\u0626\\u0631\\u0629\",\n          \"\\u062a\\u0627\\u0628\\u0639 https://t.co/gw8m3tL79d\",\n          \"@faqiahz \\u0627\\u0630\\u0643\\u0631 \\u0628\\u0627\\u0644\\u062b\\u0627\\u0646\\u0648\\u064a \\u0639\\u0627\\u0645 \\u0662\\u0660\\u0661\\u0669 \\u0631\\u062d\\u0646\\u0627 \\u0631\\u062d\\u0644\\u0629 \\u0644\\u0645\\u0639\\u0631\\u0636 \\u0639\\u0646 \\u0645\\u062a\\u0631\\u0648 \\u0627\\u0644\\u0631\\u064a\\u0627\\u0636 \\u0643\\u0627\\u0646\\u062a \\u0631\\u062d\\u0644\\u0629 \\u0645\\u0645\\u062a\\u0639\\u0629 \\u0645\\u0631\\u0631\\u0629\"\n        ],\n        \"semantic_type\": \"\",\n        \"description\": \"\"\n      }\n    },\n    {\n      \"column\": \"Search Word\",\n      \"properties\": {\n        \"dtype\": \"category\",\n        \"num_unique_values\": 87,\n        \"samples\": [\n          \"\\u0627\\u0644\\u062e\\u0637\\u0648\\u0637 \\u0627\\u0644\\u062d\\u062f\\u064a\\u062f\\u064a\\u0629 \\u0627\\u0644\\u0633\\u0639\\u0648\\u062f\\u064a\\u0629\",\n          \"\\u0648\\u0632\\u0627\\u0631\\u0629 \\u0627\\u0644\\u0646\\u0642\\u0644\",\n          \"SaudiTransport\"\n        ],\n        \"semantic_type\": \"\",\n        \"description\": \"\"\n      }\n    },\n    {\n      \"column\": \"Category\",\n      \"properties\": {\n        \"dtype\": \"category\",\n        \"num_unique_values\": 9,\n        \"samples\": [\n          \"\\u0648\\u0632\\u064a\\u0631 \\u0627\\u0644\\u0646\\u0642\\u0644\",\n          \"\\u0627\\u0644\\u0647\\u064a\\u0626\\u0629 \\u0627\\u0644\\u0639\\u0627\\u0645\\u0629 \\u0644\\u0644\\u0646\\u0642\\u0644\",\n          \"\\u0627\\u0644\\u0628\\u0631\\u064a\\u062f \\u0627\\u0644\\u0633\\u0639\\u0648\\u062f\\u064a\"\n        ],\n        \"semantic_type\": \"\",\n        \"description\": \"\"\n      }\n    }\n  ]\n}"
            }
          },
          "metadata": {},
          "execution_count": 8
        }
      ]
    },
    {
      "cell_type": "code",
      "source": [
        "import pandas as pd\n",
        "import re\n",
        "\n",
        "def classify_comment(comment, search_words, categories):\n",
        "    \"\"\"\n",
        "    تصنيف التعليقات بناءً على الكلمات المفتاحية.\n",
        "\n",
        "    Args:\n",
        "        comment (str): التعليق المراد تصنيفه.\n",
        "        search_words (list): قائمة بالكلمات المفتاحية.\n",
        "        categories (list): قائمة بالتصنيفات المقابلة للكلمات المفتاحية.\n",
        "\n",
        "    Returns:\n",
        "        dict: قاموس يحتوي على عدد مرات تكرار كل تصنيف.\n",
        "    \"\"\"\n",
        "    category_counts = {}\n",
        "    for word, category in zip(search_words, categories):\n",
        "        # استخدام التعبيرات النمطية للبحث عن الكلمة بشكل كامل مع مراعاة الحروف العربية\n",
        "        matches = re.findall(r'\\b' + re.escape(word) + r'\\b', comment)\n",
        "        if matches:\n",
        "            count = len(matches)\n",
        "            if category in category_counts:\n",
        "                category_counts[category] += count\n",
        "            else:\n",
        "                category_counts[category] = count\n",
        "    return category_counts"
      ],
      "metadata": {
        "id": "Jr6ngLaxfuLR"
      },
      "execution_count": 6,
      "outputs": []
    },
    {
      "cell_type": "code",
      "source": [
        "import pandas as pd\n",
        "# 1. قراءة ملف Excel\n",
        "try:\n",
        "  df = pd.read_excel('/content/drive/MyDrive/Database/comments.xlsx')\n",
        "except FileNotFoundError:\n",
        "  print(\"Error: The file 'comments.xlsx' was not found. Please ensure the file exists in the same directory as this script, or provide the full path to the file.\")\n",
        "  exit()"
      ],
      "metadata": {
        "id": "Yt300a_kfuN9"
      },
      "execution_count": 2,
      "outputs": []
    },
    {
      "cell_type": "code",
      "source": [
        "# التحقق من وجود الأعمدة المطلوبة\n",
        "if 'Hit Sentence' not in df.columns or 'Search Word' not in df.columns or 'Category' not in df.columns:\n",
        "    print(\"Error: The Excel file must contain columns named 'Hit Sentence', 'Search Word', and 'Category'.\")\n",
        "    exit()\n"
      ],
      "metadata": {
        "id": "rRtt7UnZfuQc"
      },
      "execution_count": 3,
      "outputs": []
    },
    {
      "cell_type": "code",
      "source": [
        "# 2. تهيئة البيانات\n",
        "comments = df[\"Hit Sentence\"].astype(str).tolist()\n",
        "search_words = df[\"Search Word\"].astype(str).tolist()\n",
        "categories = df[\"Category\"].astype(str).tolist()\n"
      ],
      "metadata": {
        "id": "cEad3rpyfuS5"
      },
      "execution_count": 4,
      "outputs": []
    },
    {
      "cell_type": "code",
      "source": [
        "# 3. تطبيق دالة التصنيف\n",
        "df[\"Category Counts\"] = [classify_comment(comment, search_words, categories) for comment in comments]\n"
      ],
      "metadata": {
        "id": "_Q_YYTJThCV2"
      },
      "execution_count": 7,
      "outputs": []
    },
    {
      "cell_type": "code",
      "source": [
        "# 4. تجميع النتائج\n",
        "results_df = pd.DataFrame(df[\"Category Counts\"].tolist(), index=df[\"Hit Sentence\"])\n",
        "results_df.index.name = \"Hit Sentence\"  # تعيين اسم العمود index\n",
        "results_df = results_df.fillna(0)\n"
      ],
      "metadata": {
        "id": "BYpGmeLohCbb"
      },
      "execution_count": 8,
      "outputs": []
    },
    {
      "cell_type": "code",
      "source": [
        "# 5. إنشاء ملف Excel جديد\n",
        "results_df.to_excel(\"classified_comments.xlsx\")\n",
        "\n",
        "print(\"تم تحليل البيانات وحفظها في ملف classified_comments.xlsx\")\n"
      ],
      "metadata": {
        "colab": {
          "base_uri": "https://localhost:8080/"
        },
        "id": "QMx_lrRchCeZ",
        "outputId": "5eaa88df-8909-4ca0-855d-f9a5f255f9f7"
      },
      "execution_count": 10,
      "outputs": [
        {
          "output_type": "stream",
          "name": "stdout",
          "text": [
            "تم تحليل البيانات وحفظها في ملف classified_comments.xlsx\n"
          ]
        }
      ]
    },
    {
      "cell_type": "code",
      "source": [],
      "metadata": {
        "id": "cZyeHBXEhChD"
      },
      "execution_count": null,
      "outputs": []
    },
    {
      "cell_type": "code",
      "source": [],
      "metadata": {
        "id": "oMoP7YYkhCkF"
      },
      "execution_count": null,
      "outputs": []
    },
    {
      "cell_type": "code",
      "source": [],
      "metadata": {
        "id": "W4K6p2NRfuVZ"
      },
      "execution_count": null,
      "outputs": []
    },
    {
      "cell_type": "code",
      "source": [],
      "metadata": {
        "id": "kzGxvfvefuXq"
      },
      "execution_count": null,
      "outputs": []
    },
    {
      "source": [
        "pip install arabic_reshaper python-bidi"
      ],
      "cell_type": "code",
      "metadata": {
        "id": "KBWWwvsXlfsP",
        "outputId": "c97bcef2-c572-4b04-c0e7-a91ad976b104",
        "colab": {
          "base_uri": "https://localhost:8080/"
        }
      },
      "execution_count": 13,
      "outputs": [
        {
          "output_type": "stream",
          "name": "stdout",
          "text": [
            "Requirement already satisfied: arabic_reshaper in /usr/local/lib/python3.10/dist-packages (3.0.0)\n",
            "Collecting python-bidi\n",
            "  Downloading python_bidi-0.6.3-cp310-cp310-manylinux_2_17_x86_64.manylinux2014_x86_64.whl.metadata (4.9 kB)\n",
            "Downloading python_bidi-0.6.3-cp310-cp310-manylinux_2_17_x86_64.manylinux2014_x86_64.whl (286 kB)\n",
            "\u001b[2K   \u001b[90m━━━━━━━━━━━━━━━━━━━━━━━━━━━━━━━━━━━━━━━━\u001b[0m \u001b[32m286.8/286.8 kB\u001b[0m \u001b[31m5.4 MB/s\u001b[0m eta \u001b[36m0:00:00\u001b[0m\n",
            "\u001b[?25hInstalling collected packages: python-bidi\n",
            "Successfully installed python-bidi-0.6.3\n"
          ]
        }
      ]
    },
    {
      "source": [
        "# عرض خريطة حرارية باستخدام إطار البيانات results_df\n",
        "\n",
        "import matplotlib.pyplot as plt\n",
        "import seaborn as sns\n",
        "import arabic_reshaper # For Arabic text reshaping\n",
        "from bidi.algorithm import get_display # For bidirectional text display\n",
        "\n",
        "\n",
        "# إنشاء خريطة حرارية\n",
        "plt.figure(figsize=(10, 8))  # ضبط حجم الشكل حسب الحاجة\n",
        "\n",
        "# Arabic Reshaping for labels:\n",
        "heatmap_data = results_df.corr()\n",
        "# Apply reshaping to index and columns before plotting:\n",
        "heatmap_data.index = [get_display(arabic_reshaper.reshape(label)) for label in heatmap_data.index]\n",
        "heatmap_data.columns = [get_display(arabic_reshaper.reshape(label)) for label in heatmap_data.columns]\n",
        "\n",
        "\n",
        "sns.heatmap(heatmap_data, annot=True, cmap='coolwarm', fmt=\".2f\")\n",
        "plt.title('خريطة حرارية للعلاقات بين التصنيفات')  # عنوان بالعربية\n",
        "plt.show()"
      ],
      "cell_type": "code",
      "metadata": {
        "id": "_X5MZlgvlloi",
        "outputId": "e8261e42-87e5-48ac-ced1-71c9eda1d7d5",
        "colab": {
          "base_uri": "https://localhost:8080/",
          "height": 796
        }
      },
      "execution_count": 15,
      "outputs": [
        {
          "output_type": "display_data",
          "data": {
            "text/plain": [
              "<Figure size 1000x800 with 2 Axes>"
            ],
            "image/png": "[encoded data removed]"
          },
          "metadata": {}
        }
      ]
    },
    {
      "cell_type": "code",
      "source": [],
      "metadata": {
        "id": "DfuokkjGmwCI"
      },
      "execution_count": null,
      "outputs": []
    },
    {
      "cell_type": "code",
      "source": [],
      "metadata": {
        "id": "bsJF_O4KmwGW"
      },
      "execution_count": null,
      "outputs": []
    },
    {
      "cell_type": "code",
      "source": [],
      "metadata": {
        "id": "yGkI7HcZmwJc"
      },
      "execution_count": null,
      "outputs": []
    },
    {
      "cell_type": "code",
      "source": [],
      "metadata": {
        "id": "4UEE4gfcmwMT"
      },
      "execution_count": null,
      "outputs": []
    },
    {
      "cell_type": "code",
      "source": [],
      "metadata": {
        "id": "l1kGe8IhmwPU"
      },
      "execution_count": null,
      "outputs": []
    }
  ]
}